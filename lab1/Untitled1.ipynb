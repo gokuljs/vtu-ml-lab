{
 "cells": [
  {
   "cell_type": "code",
   "execution_count": 1,
   "metadata": {},
   "outputs": [
    {
     "data": {
      "text/html": [
       "<div>\n",
       "<style scoped>\n",
       "    .dataframe tbody tr th:only-of-type {\n",
       "        vertical-align: middle;\n",
       "    }\n",
       "\n",
       "    .dataframe tbody tr th {\n",
       "        vertical-align: top;\n",
       "    }\n",
       "\n",
       "    .dataframe thead th {\n",
       "        text-align: right;\n",
       "    }\n",
       "</style>\n",
       "<table border=\"1\" class=\"dataframe\">\n",
       "  <thead>\n",
       "    <tr style=\"text-align: right;\">\n",
       "      <th></th>\n",
       "      <th>color</th>\n",
       "      <th>toughness</th>\n",
       "      <th>fungus</th>\n",
       "      <th>appearance</th>\n",
       "      <th>poisonous</th>\n",
       "    </tr>\n",
       "  </thead>\n",
       "  <tbody>\n",
       "    <tr>\n",
       "      <th>0</th>\n",
       "      <td>green</td>\n",
       "      <td>hard</td>\n",
       "      <td>no</td>\n",
       "      <td>wrinkled</td>\n",
       "      <td>yes</td>\n",
       "    </tr>\n",
       "    <tr>\n",
       "      <th>1</th>\n",
       "      <td>green</td>\n",
       "      <td>hard</td>\n",
       "      <td>yes</td>\n",
       "      <td>smooth</td>\n",
       "      <td>no</td>\n",
       "    </tr>\n",
       "    <tr>\n",
       "      <th>2</th>\n",
       "      <td>brown</td>\n",
       "      <td>soft</td>\n",
       "      <td>no</td>\n",
       "      <td>wrinkled</td>\n",
       "      <td>no</td>\n",
       "    </tr>\n",
       "    <tr>\n",
       "      <th>3</th>\n",
       "      <td>orange</td>\n",
       "      <td>hard</td>\n",
       "      <td>no</td>\n",
       "      <td>wrinkled</td>\n",
       "      <td>yes</td>\n",
       "    </tr>\n",
       "    <tr>\n",
       "      <th>4</th>\n",
       "      <td>green</td>\n",
       "      <td>soft</td>\n",
       "      <td>yes</td>\n",
       "      <td>smooth</td>\n",
       "      <td>yes</td>\n",
       "    </tr>\n",
       "    <tr>\n",
       "      <th>5</th>\n",
       "      <td>green</td>\n",
       "      <td>hard</td>\n",
       "      <td>yes</td>\n",
       "      <td>wrinkled</td>\n",
       "      <td>yes</td>\n",
       "    </tr>\n",
       "    <tr>\n",
       "      <th>6</th>\n",
       "      <td>orange</td>\n",
       "      <td>hard</td>\n",
       "      <td>no</td>\n",
       "      <td>wrinkled</td>\n",
       "      <td>yes</td>\n",
       "    </tr>\n",
       "  </tbody>\n",
       "</table>\n",
       "</div>"
      ],
      "text/plain": [
       "    color toughness fungus appearance poisonous\n",
       "0   green      hard     no   wrinkled       yes\n",
       "1   green      hard    yes     smooth        no\n",
       "2   brown      soft     no   wrinkled        no\n",
       "3  orange      hard     no   wrinkled       yes\n",
       "4   green      soft    yes     smooth       yes\n",
       "5   green      hard    yes   wrinkled       yes\n",
       "6  orange      hard     no   wrinkled       yes"
      ]
     },
     "execution_count": 1,
     "metadata": {},
     "output_type": "execute_result"
    }
   ],
   "source": [
    "import pandas as pd\n",
    "import numpy as np\n",
    "df=pd.read_csv(\"data.csv\")\n",
    "df"
   ]
  },
  {
   "cell_type": "code",
   "execution_count": 2,
   "metadata": {},
   "outputs": [],
   "source": [
    "rows=df.shape[0]\n",
    "cols=df.shape[1]"
   ]
  },
  {
   "cell_type": "code",
   "execution_count": 3,
   "metadata": {},
   "outputs": [
    {
     "name": "stdout",
     "output_type": "stream",
     "text": [
      "7\n",
      "5\n"
     ]
    }
   ],
   "source": [
    "print(rows)\n",
    "print(cols)"
   ]
  },
  {
   "cell_type": "code",
   "execution_count": 4,
   "metadata": {},
   "outputs": [],
   "source": [
    "# intializing specific hypotisis"
   ]
  },
  {
   "cell_type": "code",
   "execution_count": 5,
   "metadata": {},
   "outputs": [],
   "source": [
    "h = ['0', '0', '0', '0']\n"
   ]
  },
  {
   "cell_type": "code",
   "execution_count": 6,
   "metadata": {},
   "outputs": [],
   "source": [
    "# seperating the sample positive and negative sample "
   ]
  },
  {
   "cell_type": "code",
   "execution_count": 7,
   "metadata": {},
   "outputs": [],
   "source": [
    "positivesample=[]\n",
    "negativesample=[]\n",
    "for i in range(rows):\n",
    "    s=[]\n",
    "    s.append(df.color[i])\n",
    "    s.append(df.toughness[i])\n",
    "    s.append(df.fungus[i])\n",
    "    s.append(df.appearance[i])\n",
    "    if df.poisonous[i] == \"yes\":\n",
    "        positivesample.append(s)\n",
    "    else:\n",
    "        negativesample.append(s)      "
   ]
  },
  {
   "cell_type": "code",
   "execution_count": 8,
   "metadata": {},
   "outputs": [
    {
     "data": {
      "text/plain": [
       "[['green', 'hard', 'no', 'wrinkled'],\n",
       " ['orange', 'hard', 'no', 'wrinkled'],\n",
       " ['green', 'soft', 'yes', 'smooth'],\n",
       " ['green', 'hard', 'yes', 'wrinkled'],\n",
       " ['orange', 'hard', 'no', 'wrinkled']]"
      ]
     },
     "execution_count": 8,
     "metadata": {},
     "output_type": "execute_result"
    }
   ],
   "source": [
    "positivesample"
   ]
  },
  {
   "cell_type": "code",
   "execution_count": 9,
   "metadata": {},
   "outputs": [
    {
     "data": {
      "text/plain": [
       "[['green', 'hard', 'yes', 'smooth'], ['brown', 'soft', 'no', 'wrinkled']]"
      ]
     },
     "execution_count": 9,
     "metadata": {},
     "output_type": "execute_result"
    }
   ],
   "source": [
    "negativesample"
   ]
  },
  {
   "cell_type": "code",
   "execution_count": 10,
   "metadata": {},
   "outputs": [
    {
     "name": "stdout",
     "output_type": "stream",
     "text": [
      "\n",
      "For training sample  0  the hypothesis is  ['green', 'hard', 'no', 'wrinkled']\n",
      "\n",
      "For training sample  1  the hypothesis is  ['?', 'hard', 'no', 'wrinkled']\n",
      "\n",
      "For training sample  2  the hypothesis is  ['?', '?', '?', '?']\n",
      "\n",
      "For training sample  3  the hypothesis is  ['?', '?', '?', '?']\n",
      "\n",
      "For training sample  4  the hypothesis is  ['?', '?', '?', '?']\n",
      "['?', '?', '?', '?']\n"
     ]
    }
   ],
   "source": [
    "for i in range(len(positivesample)):\n",
    "    for j in range(cols-1):\n",
    "        if h[j] == '0':\n",
    "            h[j]=positivesample[i][j]\n",
    "        if h[j] != positivesample[i][j]:\n",
    "            h[j]='?'\n",
    "        else:\n",
    "            h[j]=positivesample[i][j]\n",
    "    print(\"\\nFor training sample \", i, \" the hypothesis is \",h)\n",
    "    \n",
    "print(h)"
   ]
  }
 ],
 "metadata": {
  "kernelspec": {
   "display_name": "Python 3",
   "language": "python",
   "name": "python3"
  },
  "language_info": {
   "codemirror_mode": {
    "name": "ipython",
    "version": 3
   },
   "file_extension": ".py",
   "mimetype": "text/x-python",
   "name": "python",
   "nbconvert_exporter": "python",
   "pygments_lexer": "ipython3",
   "version": "3.8.3"
  }
 },
 "nbformat": 4,
 "nbformat_minor": 4
}
